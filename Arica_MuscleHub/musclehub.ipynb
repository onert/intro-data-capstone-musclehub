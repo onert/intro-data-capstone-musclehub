{
 "cells": [
  {
   "cell_type": "markdown",
   "metadata": {},
   "source": [
    "# Capstone Project 1: MuscleHub AB Test"
   ]
  },
  {
   "cell_type": "markdown",
   "metadata": {},
   "source": [
    "## Step 1: Get started with SQL"
   ]
  },
  {
   "cell_type": "markdown",
   "metadata": {},
   "source": [
    "Like most businesses, Janet keeps her data in a SQL database.  Normally, you'd download the data from her database to a csv file, and then load it into a Jupyter Notebook using Pandas.\n",
    "\n",
    "For this project, you'll have to access SQL in a slightly different way.  You'll be using a special Codecademy library that lets you type SQL queries directly into this Jupyter notebook.  You'll have pass each SQL query as an argument to a function called `sql_query`.  Each query will return a Pandas DataFrame.  Here's an example:"
   ]
  },
  {
   "cell_type": "code",
   "execution_count": 1,
   "metadata": {},
   "outputs": [],
   "source": [
    "# This import only needs to happen once, at the beginning of the notebook\n",
    "from codecademySQL import sql_query"
   ]
  },
  {
   "cell_type": "code",
   "execution_count": 2,
   "metadata": {},
   "outputs": [
    {
     "data": {
      "text/html": [
       "<div>\n",
       "<style scoped>\n",
       "    .dataframe tbody tr th:only-of-type {\n",
       "        vertical-align: middle;\n",
       "    }\n",
       "\n",
       "    .dataframe tbody tr th {\n",
       "        vertical-align: top;\n",
       "    }\n",
       "\n",
       "    .dataframe thead th {\n",
       "        text-align: right;\n",
       "    }\n",
       "</style>\n",
       "<table border=\"1\" class=\"dataframe\">\n",
       "  <thead>\n",
       "    <tr style=\"text-align: right;\">\n",
       "      <th></th>\n",
       "      <th>index</th>\n",
       "      <th>first_name</th>\n",
       "      <th>last_name</th>\n",
       "      <th>email</th>\n",
       "      <th>gender</th>\n",
       "      <th>visit_date</th>\n",
       "    </tr>\n",
       "  </thead>\n",
       "  <tbody>\n",
       "    <tr>\n",
       "      <th>0</th>\n",
       "      <td>0</td>\n",
       "      <td>Karen</td>\n",
       "      <td>Manning</td>\n",
       "      <td>Karen.Manning@gmail.com</td>\n",
       "      <td>female</td>\n",
       "      <td>5-1-17</td>\n",
       "    </tr>\n",
       "    <tr>\n",
       "      <th>1</th>\n",
       "      <td>1</td>\n",
       "      <td>Annette</td>\n",
       "      <td>Boone</td>\n",
       "      <td>AB9982@gmail.com</td>\n",
       "      <td>female</td>\n",
       "      <td>5-1-17</td>\n",
       "    </tr>\n",
       "    <tr>\n",
       "      <th>2</th>\n",
       "      <td>2</td>\n",
       "      <td>Salvador</td>\n",
       "      <td>Merritt</td>\n",
       "      <td>SalvadorMerritt12@outlook.com</td>\n",
       "      <td>male</td>\n",
       "      <td>5-1-17</td>\n",
       "    </tr>\n",
       "    <tr>\n",
       "      <th>3</th>\n",
       "      <td>3</td>\n",
       "      <td>Martha</td>\n",
       "      <td>Maxwell</td>\n",
       "      <td>Martha.Maxwell@gmail.com</td>\n",
       "      <td>female</td>\n",
       "      <td>5-1-17</td>\n",
       "    </tr>\n",
       "    <tr>\n",
       "      <th>4</th>\n",
       "      <td>4</td>\n",
       "      <td>Andre</td>\n",
       "      <td>Mayer</td>\n",
       "      <td>AndreMayer90@gmail.com</td>\n",
       "      <td>male</td>\n",
       "      <td>5-1-17</td>\n",
       "    </tr>\n",
       "  </tbody>\n",
       "</table>\n",
       "</div>"
      ],
      "text/plain": [
       "   index first_name last_name                          email  gender  \\\n",
       "0      0      Karen   Manning        Karen.Manning@gmail.com  female   \n",
       "1      1    Annette     Boone               AB9982@gmail.com  female   \n",
       "2      2   Salvador   Merritt  SalvadorMerritt12@outlook.com    male   \n",
       "3      3     Martha   Maxwell       Martha.Maxwell@gmail.com  female   \n",
       "4      4      Andre     Mayer         AndreMayer90@gmail.com    male   \n",
       "\n",
       "  visit_date  \n",
       "0     5-1-17  \n",
       "1     5-1-17  \n",
       "2     5-1-17  \n",
       "3     5-1-17  \n",
       "4     5-1-17  "
      ]
     },
     "execution_count": 2,
     "metadata": {},
     "output_type": "execute_result"
    }
   ],
   "source": [
    "# Here's an example of a query that just displays some data\n",
    "sql_query('''\n",
    "SELECT *\n",
    "FROM visits\n",
    "LIMIT 5\n",
    "''')"
   ]
  },
  {
   "cell_type": "code",
   "execution_count": 3,
   "metadata": {},
   "outputs": [],
   "source": [
    "# Here's an example where we save the data to a DataFrame\n",
    "df = sql_query('''\n",
    "SELECT *\n",
    "FROM applications\n",
    "LIMIT 5\n",
    "''')"
   ]
  },
  {
   "cell_type": "markdown",
   "metadata": {},
   "source": [
    "## Step 2: Get your dataset"
   ]
  },
  {
   "cell_type": "markdown",
   "metadata": {},
   "source": [
    "Let's get started!\n",
    "\n",
    "Janet of MuscleHub has a SQLite database, which contains several tables that will be helpful to you in this investigation:\n",
    "- `visits` contains information about potential gym customers who have visited MuscleHub\n",
    "- `fitness_tests` contains information about potential customers in \"Group A\", who were given a fitness test\n",
    "- `applications` contains information about any potential customers (both \"Group A\" and \"Group B\") who filled out an application.  Not everyone in `visits` will have filled out an application.\n",
    "- `purchases` contains information about customers who purchased a membership to MuscleHub.\n",
    "\n",
    "Use the space below to examine each table."
   ]
  },
  {
   "cell_type": "code",
   "execution_count": 4,
   "metadata": {},
   "outputs": [
    {
     "data": {
      "text/html": [
       "<div>\n",
       "<style scoped>\n",
       "    .dataframe tbody tr th:only-of-type {\n",
       "        vertical-align: middle;\n",
       "    }\n",
       "\n",
       "    .dataframe tbody tr th {\n",
       "        vertical-align: top;\n",
       "    }\n",
       "\n",
       "    .dataframe thead th {\n",
       "        text-align: right;\n",
       "    }\n",
       "</style>\n",
       "<table border=\"1\" class=\"dataframe\">\n",
       "  <thead>\n",
       "    <tr style=\"text-align: right;\">\n",
       "      <th></th>\n",
       "      <th>index</th>\n",
       "      <th>first_name</th>\n",
       "      <th>last_name</th>\n",
       "      <th>email</th>\n",
       "      <th>gender</th>\n",
       "      <th>visit_date</th>\n",
       "    </tr>\n",
       "  </thead>\n",
       "  <tbody>\n",
       "    <tr>\n",
       "      <th>0</th>\n",
       "      <td>0</td>\n",
       "      <td>Karen</td>\n",
       "      <td>Manning</td>\n",
       "      <td>Karen.Manning@gmail.com</td>\n",
       "      <td>female</td>\n",
       "      <td>5-1-17</td>\n",
       "    </tr>\n",
       "    <tr>\n",
       "      <th>1</th>\n",
       "      <td>1</td>\n",
       "      <td>Annette</td>\n",
       "      <td>Boone</td>\n",
       "      <td>AB9982@gmail.com</td>\n",
       "      <td>female</td>\n",
       "      <td>5-1-17</td>\n",
       "    </tr>\n",
       "    <tr>\n",
       "      <th>2</th>\n",
       "      <td>2</td>\n",
       "      <td>Salvador</td>\n",
       "      <td>Merritt</td>\n",
       "      <td>SalvadorMerritt12@outlook.com</td>\n",
       "      <td>male</td>\n",
       "      <td>5-1-17</td>\n",
       "    </tr>\n",
       "    <tr>\n",
       "      <th>3</th>\n",
       "      <td>3</td>\n",
       "      <td>Martha</td>\n",
       "      <td>Maxwell</td>\n",
       "      <td>Martha.Maxwell@gmail.com</td>\n",
       "      <td>female</td>\n",
       "      <td>5-1-17</td>\n",
       "    </tr>\n",
       "    <tr>\n",
       "      <th>4</th>\n",
       "      <td>4</td>\n",
       "      <td>Andre</td>\n",
       "      <td>Mayer</td>\n",
       "      <td>AndreMayer90@gmail.com</td>\n",
       "      <td>male</td>\n",
       "      <td>5-1-17</td>\n",
       "    </tr>\n",
       "  </tbody>\n",
       "</table>\n",
       "</div>"
      ],
      "text/plain": [
       "   index first_name last_name                          email  gender  \\\n",
       "0      0      Karen   Manning        Karen.Manning@gmail.com  female   \n",
       "1      1    Annette     Boone               AB9982@gmail.com  female   \n",
       "2      2   Salvador   Merritt  SalvadorMerritt12@outlook.com    male   \n",
       "3      3     Martha   Maxwell       Martha.Maxwell@gmail.com  female   \n",
       "4      4      Andre     Mayer         AndreMayer90@gmail.com    male   \n",
       "\n",
       "  visit_date  \n",
       "0     5-1-17  \n",
       "1     5-1-17  \n",
       "2     5-1-17  \n",
       "3     5-1-17  \n",
       "4     5-1-17  "
      ]
     },
     "execution_count": 4,
     "metadata": {},
     "output_type": "execute_result"
    }
   ],
   "source": [
    "# Examine visits here\n",
    "sql_query('''\n",
    "SELECT *\n",
    "FROM visits\n",
    "LIMIT 5\n",
    "''')"
   ]
  },
  {
   "cell_type": "code",
   "execution_count": 5,
   "metadata": {},
   "outputs": [
    {
     "data": {
      "text/html": [
       "<div>\n",
       "<style scoped>\n",
       "    .dataframe tbody tr th:only-of-type {\n",
       "        vertical-align: middle;\n",
       "    }\n",
       "\n",
       "    .dataframe tbody tr th {\n",
       "        vertical-align: top;\n",
       "    }\n",
       "\n",
       "    .dataframe thead th {\n",
       "        text-align: right;\n",
       "    }\n",
       "</style>\n",
       "<table border=\"1\" class=\"dataframe\">\n",
       "  <thead>\n",
       "    <tr style=\"text-align: right;\">\n",
       "      <th></th>\n",
       "      <th>index</th>\n",
       "      <th>first_name</th>\n",
       "      <th>last_name</th>\n",
       "      <th>email</th>\n",
       "      <th>gender</th>\n",
       "      <th>fitness_test_date</th>\n",
       "    </tr>\n",
       "  </thead>\n",
       "  <tbody>\n",
       "    <tr>\n",
       "      <th>0</th>\n",
       "      <td>0</td>\n",
       "      <td>Kim</td>\n",
       "      <td>Walter</td>\n",
       "      <td>KimWalter58@gmail.com</td>\n",
       "      <td>female</td>\n",
       "      <td>2017-07-03</td>\n",
       "    </tr>\n",
       "    <tr>\n",
       "      <th>1</th>\n",
       "      <td>1</td>\n",
       "      <td>Tom</td>\n",
       "      <td>Webster</td>\n",
       "      <td>TW3857@gmail.com</td>\n",
       "      <td>male</td>\n",
       "      <td>2017-07-02</td>\n",
       "    </tr>\n",
       "    <tr>\n",
       "      <th>2</th>\n",
       "      <td>2</td>\n",
       "      <td>Marcus</td>\n",
       "      <td>Bauer</td>\n",
       "      <td>Marcus.Bauer@gmail.com</td>\n",
       "      <td>male</td>\n",
       "      <td>2017-07-01</td>\n",
       "    </tr>\n",
       "    <tr>\n",
       "      <th>3</th>\n",
       "      <td>3</td>\n",
       "      <td>Roberta</td>\n",
       "      <td>Best</td>\n",
       "      <td>RB6305@hotmail.com</td>\n",
       "      <td>female</td>\n",
       "      <td>2017-07-02</td>\n",
       "    </tr>\n",
       "    <tr>\n",
       "      <th>4</th>\n",
       "      <td>4</td>\n",
       "      <td>Carrie</td>\n",
       "      <td>Francis</td>\n",
       "      <td>CF1896@hotmail.com</td>\n",
       "      <td>female</td>\n",
       "      <td>2017-07-05</td>\n",
       "    </tr>\n",
       "  </tbody>\n",
       "</table>\n",
       "</div>"
      ],
      "text/plain": [
       "   index first_name last_name                   email  gender  \\\n",
       "0      0        Kim    Walter   KimWalter58@gmail.com  female   \n",
       "1      1        Tom   Webster        TW3857@gmail.com    male   \n",
       "2      2     Marcus     Bauer  Marcus.Bauer@gmail.com    male   \n",
       "3      3    Roberta      Best      RB6305@hotmail.com  female   \n",
       "4      4     Carrie   Francis      CF1896@hotmail.com  female   \n",
       "\n",
       "  fitness_test_date  \n",
       "0        2017-07-03  \n",
       "1        2017-07-02  \n",
       "2        2017-07-01  \n",
       "3        2017-07-02  \n",
       "4        2017-07-05  "
      ]
     },
     "execution_count": 5,
     "metadata": {},
     "output_type": "execute_result"
    }
   ],
   "source": [
    "# Examine fitness_tests here\n",
    "sql_query('''\n",
    "SELECT * \n",
    "FROM fitness_tests\n",
    "LIMIT 5\n",
    "''')"
   ]
  },
  {
   "cell_type": "code",
   "execution_count": 6,
   "metadata": {},
   "outputs": [
    {
     "data": {
      "text/html": [
       "<div>\n",
       "<style scoped>\n",
       "    .dataframe tbody tr th:only-of-type {\n",
       "        vertical-align: middle;\n",
       "    }\n",
       "\n",
       "    .dataframe tbody tr th {\n",
       "        vertical-align: top;\n",
       "    }\n",
       "\n",
       "    .dataframe thead th {\n",
       "        text-align: right;\n",
       "    }\n",
       "</style>\n",
       "<table border=\"1\" class=\"dataframe\">\n",
       "  <thead>\n",
       "    <tr style=\"text-align: right;\">\n",
       "      <th></th>\n",
       "      <th>index</th>\n",
       "      <th>first_name</th>\n",
       "      <th>last_name</th>\n",
       "      <th>email</th>\n",
       "      <th>gender</th>\n",
       "      <th>application_date</th>\n",
       "    </tr>\n",
       "  </thead>\n",
       "  <tbody>\n",
       "    <tr>\n",
       "      <th>0</th>\n",
       "      <td>0</td>\n",
       "      <td>Roy</td>\n",
       "      <td>Abbott</td>\n",
       "      <td>RoyAbbott32@gmail.com</td>\n",
       "      <td>male</td>\n",
       "      <td>2017-08-12</td>\n",
       "    </tr>\n",
       "    <tr>\n",
       "      <th>1</th>\n",
       "      <td>1</td>\n",
       "      <td>Agnes</td>\n",
       "      <td>Acevedo</td>\n",
       "      <td>AgnesAcevedo1@gmail.com</td>\n",
       "      <td>female</td>\n",
       "      <td>2017-09-29</td>\n",
       "    </tr>\n",
       "    <tr>\n",
       "      <th>2</th>\n",
       "      <td>2</td>\n",
       "      <td>Roberta</td>\n",
       "      <td>Acevedo</td>\n",
       "      <td>RA8063@gmail.com</td>\n",
       "      <td>female</td>\n",
       "      <td>2017-09-15</td>\n",
       "    </tr>\n",
       "    <tr>\n",
       "      <th>3</th>\n",
       "      <td>3</td>\n",
       "      <td>Darren</td>\n",
       "      <td>Acosta</td>\n",
       "      <td>DAcosta1996@hotmail.com</td>\n",
       "      <td>male</td>\n",
       "      <td>2017-07-26</td>\n",
       "    </tr>\n",
       "    <tr>\n",
       "      <th>4</th>\n",
       "      <td>4</td>\n",
       "      <td>Vernon</td>\n",
       "      <td>Acosta</td>\n",
       "      <td>VAcosta1975@gmail.com</td>\n",
       "      <td>male</td>\n",
       "      <td>2017-07-14</td>\n",
       "    </tr>\n",
       "  </tbody>\n",
       "</table>\n",
       "</div>"
      ],
      "text/plain": [
       "   index first_name last_name                    email  gender  \\\n",
       "0      0        Roy    Abbott    RoyAbbott32@gmail.com    male   \n",
       "1      1      Agnes   Acevedo  AgnesAcevedo1@gmail.com  female   \n",
       "2      2    Roberta   Acevedo         RA8063@gmail.com  female   \n",
       "3      3     Darren    Acosta  DAcosta1996@hotmail.com    male   \n",
       "4      4     Vernon    Acosta    VAcosta1975@gmail.com    male   \n",
       "\n",
       "  application_date  \n",
       "0       2017-08-12  \n",
       "1       2017-09-29  \n",
       "2       2017-09-15  \n",
       "3       2017-07-26  \n",
       "4       2017-07-14  "
      ]
     },
     "execution_count": 6,
     "metadata": {},
     "output_type": "execute_result"
    }
   ],
   "source": [
    "# Examine applications here\n",
    "sql_query('''\n",
    "SELECT *\n",
    "FROM applications\n",
    "LIMIT 5\n",
    "''')"
   ]
  },
  {
   "cell_type": "code",
   "execution_count": 7,
   "metadata": {},
   "outputs": [
    {
     "data": {
      "text/html": [
       "<div>\n",
       "<style scoped>\n",
       "    .dataframe tbody tr th:only-of-type {\n",
       "        vertical-align: middle;\n",
       "    }\n",
       "\n",
       "    .dataframe tbody tr th {\n",
       "        vertical-align: top;\n",
       "    }\n",
       "\n",
       "    .dataframe thead th {\n",
       "        text-align: right;\n",
       "    }\n",
       "</style>\n",
       "<table border=\"1\" class=\"dataframe\">\n",
       "  <thead>\n",
       "    <tr style=\"text-align: right;\">\n",
       "      <th></th>\n",
       "      <th>index</th>\n",
       "      <th>first_name</th>\n",
       "      <th>last_name</th>\n",
       "      <th>email</th>\n",
       "      <th>gender</th>\n",
       "      <th>purchase_date</th>\n",
       "    </tr>\n",
       "  </thead>\n",
       "  <tbody>\n",
       "    <tr>\n",
       "      <th>0</th>\n",
       "      <td>0</td>\n",
       "      <td>Roy</td>\n",
       "      <td>Abbott</td>\n",
       "      <td>RoyAbbott32@gmail.com</td>\n",
       "      <td>male</td>\n",
       "      <td>2017-08-18</td>\n",
       "    </tr>\n",
       "    <tr>\n",
       "      <th>1</th>\n",
       "      <td>1</td>\n",
       "      <td>Roberta</td>\n",
       "      <td>Acevedo</td>\n",
       "      <td>RA8063@gmail.com</td>\n",
       "      <td>female</td>\n",
       "      <td>2017-09-16</td>\n",
       "    </tr>\n",
       "    <tr>\n",
       "      <th>2</th>\n",
       "      <td>2</td>\n",
       "      <td>Vernon</td>\n",
       "      <td>Acosta</td>\n",
       "      <td>VAcosta1975@gmail.com</td>\n",
       "      <td>male</td>\n",
       "      <td>2017-07-20</td>\n",
       "    </tr>\n",
       "    <tr>\n",
       "      <th>3</th>\n",
       "      <td>3</td>\n",
       "      <td>Darren</td>\n",
       "      <td>Acosta</td>\n",
       "      <td>DAcosta1996@hotmail.com</td>\n",
       "      <td>male</td>\n",
       "      <td>2017-07-27</td>\n",
       "    </tr>\n",
       "    <tr>\n",
       "      <th>4</th>\n",
       "      <td>4</td>\n",
       "      <td>Dawn</td>\n",
       "      <td>Adkins</td>\n",
       "      <td>Dawn.Adkins@gmail.com</td>\n",
       "      <td>female</td>\n",
       "      <td>2017-08-24</td>\n",
       "    </tr>\n",
       "  </tbody>\n",
       "</table>\n",
       "</div>"
      ],
      "text/plain": [
       "   index first_name last_name                    email  gender purchase_date\n",
       "0      0        Roy    Abbott    RoyAbbott32@gmail.com    male    2017-08-18\n",
       "1      1    Roberta   Acevedo         RA8063@gmail.com  female    2017-09-16\n",
       "2      2     Vernon    Acosta    VAcosta1975@gmail.com    male    2017-07-20\n",
       "3      3     Darren    Acosta  DAcosta1996@hotmail.com    male    2017-07-27\n",
       "4      4       Dawn    Adkins    Dawn.Adkins@gmail.com  female    2017-08-24"
      ]
     },
     "execution_count": 7,
     "metadata": {},
     "output_type": "execute_result"
    }
   ],
   "source": [
    "# Examine purchases here\n",
    "sql_query('''\n",
    "SELECT *\n",
    "FROM purchases\n",
    "LIMIT 5\n",
    "''')"
   ]
  },
  {
   "cell_type": "markdown",
   "metadata": {},
   "source": [
    "We'd like to download a giant DataFrame containing all of this data.  You'll need to write a query that does the following things:\n",
    "\n",
    "1. Not all visits in  `visits` occurred during the A/B test.  You'll only want to pull data where `visit_date` is on or after `7-1-17`.\n",
    "\n",
    "2. You'll want to perform a series of `LEFT JOIN` commands to combine the four tables that we care about.  You'll need to perform the joins on `first_name`, `last_name`, and `email`.  Pull the following columns:\n",
    "\n",
    "\n",
    "- `visits.first_name`\n",
    "- `visits.last_name`\n",
    "- `visits.gender`\n",
    "- `visits.email`\n",
    "- `visits.visit_date`\n",
    "- `fitness_tests.fitness_test_date`\n",
    "- `applications.application_date`\n",
    "- `purchases.purchase_date`\n",
    "\n",
    "Save the result of this query to a variable called `df`.\n",
    "\n",
    "Hint: your result should have 5004 rows.  Does it?"
   ]
  },
  {
   "cell_type": "code",
   "execution_count": 8,
   "metadata": {},
   "outputs": [
    {
     "name": "stdout",
     "output_type": "stream",
     "text": [
      "     first_name   last_name  gender                          email visit_date  \\\n",
      "0           Kim      Walter  female          KimWalter58@gmail.com     7-1-17   \n",
      "1           Tom     Webster    male               TW3857@gmail.com     7-1-17   \n",
      "2        Edward       Bowen    male         Edward.Bowen@gmail.com     7-1-17   \n",
      "3        Marcus       Bauer    male         Marcus.Bauer@gmail.com     7-1-17   \n",
      "4       Roberta        Best  female             RB6305@hotmail.com     7-1-17   \n",
      "5        Joseph       Foley    male        JosephFoley81@gmail.com     7-1-17   \n",
      "6        Carrie     Francis  female             CF1896@hotmail.com     7-1-17   \n",
      "7        Sharon     William  female     Sharon.William@outlook.com     7-1-17   \n",
      "8        Teresa       Yates  female           TYates1988@gmail.com     7-1-17   \n",
      "9      Salvador    Cardenas    male        SCardenas1980@gmail.com     7-1-17   \n",
      "10         Glen      Barker    male          GBarker1976@gmail.com     7-1-17   \n",
      "11      Valerie       Munoz  female           VMunoz1998@gmail.com     7-1-17   \n",
      "12       Jeremy        Howe    male            JHowe1982@gmail.com     7-1-17   \n",
      "13         Joel       Combs    male               JC9481@gmail.com     7-1-17   \n",
      "14        Oscar      Forbes    male         Oscar.Forbes@gmail.com     7-1-17   \n",
      "15       Darryl      Albert    male          DAlbert1975@gmail.com     7-1-17   \n",
      "16      Armando  Valenzuela    male  ArmandoValenzuela67@gmail.com     7-1-17   \n",
      "17         June       Ayers  female               JA2612@gmail.com     7-1-17   \n",
      "18        Nancy       Morin  female          Nancy.Morin@gmail.com     7-1-17   \n",
      "19     Lorraine     Lindsay  female               LL3161@gmail.com     7-1-17   \n",
      "20        Carla    Guerrero  female               CG6354@gmail.com     7-1-17   \n",
      "21         Gina      Monroe  female          GMonroe1973@gmail.com     7-1-17   \n",
      "22         Andy    Roberson    male        ARoberson1972@yahoo.com     7-1-17   \n",
      "23       Arnold      Madden    male          AMadden1998@gmail.com     7-1-17   \n",
      "24       Norman   Frederick    male               NF6074@gmail.com     7-1-17   \n",
      "25       Morris        Lott    male               ML9504@gmail.com     7-1-17   \n",
      "26         Cory      Gamble    male          CGamble1983@gmail.com     7-1-17   \n",
      "27       Marcus     Gilliam    male         MGilliam1997@gmail.com     7-1-17   \n",
      "28     Clifford     Guthrie    male     Clifford.Guthrie@gmail.com     7-1-17   \n",
      "29        Terry     Merrill    male       TerryMerrill91@gmail.com     7-1-17   \n",
      "...         ...         ...     ...                            ...        ...   \n",
      "4974    Dolores     Nielsen  female       DNielsen1989@outlook.com     9-9-17   \n",
      "4975      Kathy       Drake  female         KathyDrake58@yahoo.com     9-9-17   \n",
      "4976      Misty    Roberson  female       Misty.Roberson@gmail.com     9-9-17   \n",
      "4977     Marian      Daniel  female      Marian.Daniel@outlook.com     9-9-17   \n",
      "4978      Wanda        Snow  female          WandaSnow93@gmail.com     9-9-17   \n",
      "4979     Nathan    Gallegos    male        NGallegos1993@gmail.com     9-9-17   \n",
      "4980     Evelyn      Reeves  female      Evelyn.Reeves@hotmail.com     9-9-17   \n",
      "4981      Kelly        Tate    male               KT1133@yahoo.com     9-9-17   \n",
      "4982     Willie        Mann  female            WMann1985@gmail.com     9-9-17   \n",
      "4983      Ellen       Blake  female               EB2921@gmail.com     9-9-17   \n",
      "4984   Marjorie        Wong  female            MWong1985@gmail.com     9-9-17   \n",
      "4985     Margie      Walton  female        Margie.Walton@gmail.com     9-9-17   \n",
      "4986      Peter    Figueroa    male               PF2641@gmail.com     9-9-17   \n",
      "4987    Clifton        Leon    male         Clifton.Leon@gmail.com     9-9-17   \n",
      "4988     Gordon    Espinoza    male               GE6498@gmail.com     9-9-17   \n",
      "4989       Luis       Horne    male             LH9941@outlook.com     9-9-17   \n",
      "4990    Francis      Durham    male      FrancisDurham84@gmail.com     9-9-17   \n",
      "4991    Suzanne    Humphrey  female     SuzanneHumphrey4@gmail.com     9-9-17   \n",
      "4992      Glenn      Kinney    male         Glenn.Kinney@gmail.com     9-9-17   \n",
      "4993       Jose   Stevenson    male      JoseStevenson56@gmail.com     9-9-17   \n",
      "4994    Gregory        Wong    male            GWong1970@gmail.com     9-9-17   \n",
      "4995       Dean       Mejia    male               DM7848@gmail.com     9-9-17   \n",
      "4996     Sharon        Hahn  female               SH5322@gmail.com     9-9-17   \n",
      "4997       Adam      Grimes    male          Adam.Grimes@gmail.com     9-9-17   \n",
      "4998       Sara      Malone  female          SMalone1995@gmail.com     9-9-17   \n",
      "4999     Rachel     Hensley  female      RachelHensley38@gmail.com     9-9-17   \n",
      "5000       Leon      Harmon    male          Leon.Harmon@gmail.com     9-9-17   \n",
      "5001       Andy       Pratt    male          AndyPratt27@gmail.com     9-9-17   \n",
      "5002      Ruben     Nielsen    male     RubenNielsen93@hotmail.com     9-9-17   \n",
      "5003    Charles      Carver    male               CC2490@gmail.com     9-9-17   \n",
      "\n",
      "     fitness_test_date application_date purchase_date  \n",
      "0           2017-07-03             None          None  \n",
      "1           2017-07-02             None          None  \n",
      "2                 None       2017-07-04    2017-07-04  \n",
      "3           2017-07-01       2017-07-03    2017-07-05  \n",
      "4           2017-07-02             None          None  \n",
      "5                 None             None          None  \n",
      "6           2017-07-05             None          None  \n",
      "7                 None             None          None  \n",
      "8           2017-07-02             None          None  \n",
      "9           2017-07-07       2017-07-06          None  \n",
      "10                None             None          None  \n",
      "11          2017-07-03       2017-07-05    2017-07-06  \n",
      "12          2017-07-06             None          None  \n",
      "13          2017-07-01             None          None  \n",
      "14                None             None          None  \n",
      "15                None             None          None  \n",
      "16                None             None          None  \n",
      "17                None             None          None  \n",
      "18          2017-07-05             None          None  \n",
      "19          2017-07-05             None          None  \n",
      "20          2017-07-03             None          None  \n",
      "21                None             None          None  \n",
      "22          2017-07-05             None          None  \n",
      "23          2017-07-01             None          None  \n",
      "24                None             None          None  \n",
      "25          2017-07-03             None          None  \n",
      "26                None             None          None  \n",
      "27                None             None          None  \n",
      "28          2017-07-04             None          None  \n",
      "29                None             None          None  \n",
      "...                ...              ...           ...  \n",
      "4974        2017-09-14             None          None  \n",
      "4975              None             None          None  \n",
      "4976        2017-09-14             None          None  \n",
      "4977              None             None          None  \n",
      "4978              None             None          None  \n",
      "4979              None             None          None  \n",
      "4980              None             None          None  \n",
      "4981        2017-09-12             None          None  \n",
      "4982        2017-09-11             None          None  \n",
      "4983        2017-09-10             None          None  \n",
      "4984              None             None          None  \n",
      "4985              None             None          None  \n",
      "4986        2017-09-15             None          None  \n",
      "4987        2017-09-12             None          None  \n",
      "4988        2017-09-12             None          None  \n",
      "4989              None             None          None  \n",
      "4990              None             None          None  \n",
      "4991        2017-09-09       2017-09-13    2017-09-18  \n",
      "4992              None             None          None  \n",
      "4993              None             None          None  \n",
      "4994        2017-09-09             None          None  \n",
      "4995        2017-09-13             None          None  \n",
      "4996              None             None          None  \n",
      "4997              None             None          None  \n",
      "4998        2017-09-13             None          None  \n",
      "4999              None             None          None  \n",
      "5000        2017-09-15             None          None  \n",
      "5001        2017-09-15             None          None  \n",
      "5002              None       2017-09-13          None  \n",
      "5003        2017-09-12             None          None  \n",
      "\n",
      "[5004 rows x 8 columns]\n"
     ]
    }
   ],
   "source": [
    "df = sql_query('''\n",
    "SELECT visits.first_name, \n",
    "    visits.last_name, \n",
    "    visits.gender, \n",
    "    visits.email, \n",
    "    visits.visit_date, \n",
    "    fitness_tests.fitness_test_date,\n",
    "    applications.application_date,\n",
    "    purchases.purchase_date\n",
    "FROM visits \n",
    "LEFT JOIN fitness_tests \n",
    "    ON visits.first_name = fitness_tests.first_name \n",
    "    AND visits.last_name = fitness_tests.last_name \n",
    "    AND visits.email = fitness_tests.email\n",
    "LEFT JOIN applications \n",
    "    ON visits.first_name = applications.first_name \n",
    "    AND visits.last_name = applications.last_name \n",
    "    AND visits.email = applications.email\n",
    "LEFT JOIN purchases \n",
    "    ON visits.first_name = purchases.first_name \n",
    "    AND visits.last_name = purchases.last_name \n",
    "    AND visits.email = purchases.email\n",
    "WHERE visits.visit_date >= '7-01-17'\n",
    "''')\n",
    "print(df)"
   ]
  },
  {
   "cell_type": "markdown",
   "metadata": {},
   "source": [
    "## Step 3: Investigate the A and B groups"
   ]
  },
  {
   "cell_type": "markdown",
   "metadata": {},
   "source": [
    "We have some data to work with! Import the following modules so that we can start doing analysis:\n",
    "- `import pandas as pd`\n",
    "- `from matplotlib import pyplot as plt`"
   ]
  },
  {
   "cell_type": "code",
   "execution_count": 9,
   "metadata": {},
   "outputs": [],
   "source": [
    "import pandas as pd\n",
    "from matplotlib import pyplot as plt"
   ]
  },
  {
   "cell_type": "markdown",
   "metadata": {},
   "source": [
    "We're going to add some columns to `df` to help us with our analysis.\n",
    "\n",
    "Start by adding a column called `ab_test_group`.  It should be `A` if `fitness_test_date` is not `None`, and `B` if `fitness_test_date` is `None`."
   ]
  },
  {
   "cell_type": "code",
   "execution_count": 10,
   "metadata": {},
   "outputs": [
    {
     "name": "stdout",
     "output_type": "stream",
     "text": [
      "     first_name   last_name  gender                          email visit_date  \\\n",
      "0           Kim      Walter  female          KimWalter58@gmail.com     7-1-17   \n",
      "1           Tom     Webster    male               TW3857@gmail.com     7-1-17   \n",
      "2        Edward       Bowen    male         Edward.Bowen@gmail.com     7-1-17   \n",
      "3        Marcus       Bauer    male         Marcus.Bauer@gmail.com     7-1-17   \n",
      "4       Roberta        Best  female             RB6305@hotmail.com     7-1-17   \n",
      "5        Joseph       Foley    male        JosephFoley81@gmail.com     7-1-17   \n",
      "6        Carrie     Francis  female             CF1896@hotmail.com     7-1-17   \n",
      "7        Sharon     William  female     Sharon.William@outlook.com     7-1-17   \n",
      "8        Teresa       Yates  female           TYates1988@gmail.com     7-1-17   \n",
      "9      Salvador    Cardenas    male        SCardenas1980@gmail.com     7-1-17   \n",
      "10         Glen      Barker    male          GBarker1976@gmail.com     7-1-17   \n",
      "11      Valerie       Munoz  female           VMunoz1998@gmail.com     7-1-17   \n",
      "12       Jeremy        Howe    male            JHowe1982@gmail.com     7-1-17   \n",
      "13         Joel       Combs    male               JC9481@gmail.com     7-1-17   \n",
      "14        Oscar      Forbes    male         Oscar.Forbes@gmail.com     7-1-17   \n",
      "15       Darryl      Albert    male          DAlbert1975@gmail.com     7-1-17   \n",
      "16      Armando  Valenzuela    male  ArmandoValenzuela67@gmail.com     7-1-17   \n",
      "17         June       Ayers  female               JA2612@gmail.com     7-1-17   \n",
      "18        Nancy       Morin  female          Nancy.Morin@gmail.com     7-1-17   \n",
      "19     Lorraine     Lindsay  female               LL3161@gmail.com     7-1-17   \n",
      "20        Carla    Guerrero  female               CG6354@gmail.com     7-1-17   \n",
      "21         Gina      Monroe  female          GMonroe1973@gmail.com     7-1-17   \n",
      "22         Andy    Roberson    male        ARoberson1972@yahoo.com     7-1-17   \n",
      "23       Arnold      Madden    male          AMadden1998@gmail.com     7-1-17   \n",
      "24       Norman   Frederick    male               NF6074@gmail.com     7-1-17   \n",
      "25       Morris        Lott    male               ML9504@gmail.com     7-1-17   \n",
      "26         Cory      Gamble    male          CGamble1983@gmail.com     7-1-17   \n",
      "27       Marcus     Gilliam    male         MGilliam1997@gmail.com     7-1-17   \n",
      "28     Clifford     Guthrie    male     Clifford.Guthrie@gmail.com     7-1-17   \n",
      "29        Terry     Merrill    male       TerryMerrill91@gmail.com     7-1-17   \n",
      "...         ...         ...     ...                            ...        ...   \n",
      "4974    Dolores     Nielsen  female       DNielsen1989@outlook.com     9-9-17   \n",
      "4975      Kathy       Drake  female         KathyDrake58@yahoo.com     9-9-17   \n",
      "4976      Misty    Roberson  female       Misty.Roberson@gmail.com     9-9-17   \n",
      "4977     Marian      Daniel  female      Marian.Daniel@outlook.com     9-9-17   \n",
      "4978      Wanda        Snow  female          WandaSnow93@gmail.com     9-9-17   \n",
      "4979     Nathan    Gallegos    male        NGallegos1993@gmail.com     9-9-17   \n",
      "4980     Evelyn      Reeves  female      Evelyn.Reeves@hotmail.com     9-9-17   \n",
      "4981      Kelly        Tate    male               KT1133@yahoo.com     9-9-17   \n",
      "4982     Willie        Mann  female            WMann1985@gmail.com     9-9-17   \n",
      "4983      Ellen       Blake  female               EB2921@gmail.com     9-9-17   \n",
      "4984   Marjorie        Wong  female            MWong1985@gmail.com     9-9-17   \n",
      "4985     Margie      Walton  female        Margie.Walton@gmail.com     9-9-17   \n",
      "4986      Peter    Figueroa    male               PF2641@gmail.com     9-9-17   \n",
      "4987    Clifton        Leon    male         Clifton.Leon@gmail.com     9-9-17   \n",
      "4988     Gordon    Espinoza    male               GE6498@gmail.com     9-9-17   \n",
      "4989       Luis       Horne    male             LH9941@outlook.com     9-9-17   \n",
      "4990    Francis      Durham    male      FrancisDurham84@gmail.com     9-9-17   \n",
      "4991    Suzanne    Humphrey  female     SuzanneHumphrey4@gmail.com     9-9-17   \n",
      "4992      Glenn      Kinney    male         Glenn.Kinney@gmail.com     9-9-17   \n",
      "4993       Jose   Stevenson    male      JoseStevenson56@gmail.com     9-9-17   \n",
      "4994    Gregory        Wong    male            GWong1970@gmail.com     9-9-17   \n",
      "4995       Dean       Mejia    male               DM7848@gmail.com     9-9-17   \n",
      "4996     Sharon        Hahn  female               SH5322@gmail.com     9-9-17   \n",
      "4997       Adam      Grimes    male          Adam.Grimes@gmail.com     9-9-17   \n",
      "4998       Sara      Malone  female          SMalone1995@gmail.com     9-9-17   \n",
      "4999     Rachel     Hensley  female      RachelHensley38@gmail.com     9-9-17   \n",
      "5000       Leon      Harmon    male          Leon.Harmon@gmail.com     9-9-17   \n",
      "5001       Andy       Pratt    male          AndyPratt27@gmail.com     9-9-17   \n",
      "5002      Ruben     Nielsen    male     RubenNielsen93@hotmail.com     9-9-17   \n",
      "5003    Charles      Carver    male               CC2490@gmail.com     9-9-17   \n",
      "\n",
      "     fitness_test_date application_date purchase_date ab_test_group  \n",
      "0           2017-07-03             None          None             A  \n",
      "1           2017-07-02             None          None             A  \n",
      "2                 None       2017-07-04    2017-07-04             B  \n",
      "3           2017-07-01       2017-07-03    2017-07-05             A  \n",
      "4           2017-07-02             None          None             A  \n",
      "5                 None             None          None             B  \n",
      "6           2017-07-05             None          None             A  \n",
      "7                 None             None          None             B  \n",
      "8           2017-07-02             None          None             A  \n",
      "9           2017-07-07       2017-07-06          None             A  \n",
      "10                None             None          None             B  \n",
      "11          2017-07-03       2017-07-05    2017-07-06             A  \n",
      "12          2017-07-06             None          None             A  \n",
      "13          2017-07-01             None          None             A  \n",
      "14                None             None          None             B  \n",
      "15                None             None          None             B  \n",
      "16                None             None          None             B  \n",
      "17                None             None          None             B  \n",
      "18          2017-07-05             None          None             A  \n",
      "19          2017-07-05             None          None             A  \n",
      "20          2017-07-03             None          None             A  \n",
      "21                None             None          None             B  \n",
      "22          2017-07-05             None          None             A  \n",
      "23          2017-07-01             None          None             A  \n",
      "24                None             None          None             B  \n",
      "25          2017-07-03             None          None             A  \n",
      "26                None             None          None             B  \n",
      "27                None             None          None             B  \n",
      "28          2017-07-04             None          None             A  \n",
      "29                None             None          None             B  \n",
      "...                ...              ...           ...           ...  \n",
      "4974        2017-09-14             None          None             A  \n",
      "4975              None             None          None             B  \n",
      "4976        2017-09-14             None          None             A  \n",
      "4977              None             None          None             B  \n",
      "4978              None             None          None             B  \n",
      "4979              None             None          None             B  \n",
      "4980              None             None          None             B  \n",
      "4981        2017-09-12             None          None             A  \n",
      "4982        2017-09-11             None          None             A  \n",
      "4983        2017-09-10             None          None             A  \n",
      "4984              None             None          None             B  \n",
      "4985              None             None          None             B  \n",
      "4986        2017-09-15             None          None             A  \n",
      "4987        2017-09-12             None          None             A  \n",
      "4988        2017-09-12             None          None             A  \n",
      "4989              None             None          None             B  \n",
      "4990              None             None          None             B  \n",
      "4991        2017-09-09       2017-09-13    2017-09-18             A  \n",
      "4992              None             None          None             B  \n",
      "4993              None             None          None             B  \n",
      "4994        2017-09-09             None          None             A  \n",
      "4995        2017-09-13             None          None             A  \n",
      "4996              None             None          None             B  \n",
      "4997              None             None          None             B  \n",
      "4998        2017-09-13             None          None             A  \n",
      "4999              None             None          None             B  \n",
      "5000        2017-09-15             None          None             A  \n",
      "5001        2017-09-15             None          None             A  \n",
      "5002              None       2017-09-13          None             B  \n",
      "5003        2017-09-12             None          None             A  \n",
      "\n",
      "[5004 rows x 9 columns]\n"
     ]
    }
   ],
   "source": [
    "df['ab_test_group'] = df.fitness_test_date.apply(lambda x: 'B' if pd.isnull(x) else 'A')\n",
    "print(df)"
   ]
  },
  {
   "cell_type": "markdown",
   "metadata": {},
   "source": [
    "Let's do a quick sanity check that Janet split her visitors such that about half are in A and half are in B.\n",
    "\n",
    "Start by using `groupby` to count how many users are in each `ab_test_group`.  Save the results to `ab_counts`."
   ]
  },
  {
   "cell_type": "code",
   "execution_count": 11,
   "metadata": {},
   "outputs": [
    {
     "name": "stdout",
     "output_type": "stream",
     "text": [
      "  ab_test_group  first_name\n",
      "0             A        2504\n",
      "1             B        2500\n"
     ]
    }
   ],
   "source": [
    "ab_counts = df.groupby('ab_test_group').first_name.count().reset_index()\n",
    "print(ab_counts)"
   ]
  },
  {
   "cell_type": "markdown",
   "metadata": {},
   "source": [
    "We'll want to include this information in our presentation.  Let's create a pie cart using `plt.pie`.  Make sure to include:\n",
    "- Use `plt.axis('equal')` so that your pie chart looks nice\n",
    "- Add a legend labeling `A` and `B`\n",
    "- Use `autopct` to label the percentage of each group\n",
    "- Save your figure as `ab_test_pie_chart.png`"
   ]
  },
  {
   "cell_type": "code",
   "execution_count": 12,
   "metadata": {},
   "outputs": [
    {
     "data": {
      "image/png": "[encoded data removed]",
      "text/plain": [
       "<Figure size 432x288 with 1 Axes>"
      ]
     },
     "metadata": {},
     "output_type": "display_data"
    },
    {
     "data": {
      "text/plain": [
       "<Figure size 432x288 with 0 Axes>"
      ]
     },
     "metadata": {},
     "output_type": "display_data"
    }
   ],
   "source": [
    "ab_labels = ['A','B']\n",
    "plt.pie(ab_counts.first_name,labels=ab_labels,autopct='%0.2f%%')\n",
    "plt.axis('equal')\n",
    "plt.legend(ab_labels)\n",
    "\n",
    "plt.show()\n",
    "plt.savefig('ab_test_pie_chart.png')"
   ]
  },
  {
   "cell_type": "markdown",
   "metadata": {},
   "source": [
    "## Step 4: Who picks up an application?"
   ]
  },
  {
   "cell_type": "markdown",
   "metadata": {},
   "source": [
    "Recall that the sign-up process for MuscleHub has several steps:\n",
    "1. Take a fitness test with a personal trainer (only Group A)\n",
    "2. Fill out an application for the gym\n",
    "3. Send in their payment for their first month's membership\n",
    "\n",
    "Let's examine how many people make it to Step 2, filling out an application.\n",
    "\n",
    "Start by creating a new column in `df` called `is_application` which is `Application` if `application_date` is not `None` and `No Application`, otherwise."
   ]
  },
  {
   "cell_type": "code",
   "execution_count": 13,
   "metadata": {},
   "outputs": [
    {
     "name": "stdout",
     "output_type": "stream",
     "text": [
      "     first_name   last_name  gender                          email visit_date  \\\n",
      "0           Kim      Walter  female          KimWalter58@gmail.com     7-1-17   \n",
      "1           Tom     Webster    male               TW3857@gmail.com     7-1-17   \n",
      "2        Edward       Bowen    male         Edward.Bowen@gmail.com     7-1-17   \n",
      "3        Marcus       Bauer    male         Marcus.Bauer@gmail.com     7-1-17   \n",
      "4       Roberta        Best  female             RB6305@hotmail.com     7-1-17   \n",
      "5        Joseph       Foley    male        JosephFoley81@gmail.com     7-1-17   \n",
      "6        Carrie     Francis  female             CF1896@hotmail.com     7-1-17   \n",
      "7        Sharon     William  female     Sharon.William@outlook.com     7-1-17   \n",
      "8        Teresa       Yates  female           TYates1988@gmail.com     7-1-17   \n",
      "9      Salvador    Cardenas    male        SCardenas1980@gmail.com     7-1-17   \n",
      "10         Glen      Barker    male          GBarker1976@gmail.com     7-1-17   \n",
      "11      Valerie       Munoz  female           VMunoz1998@gmail.com     7-1-17   \n",
      "12       Jeremy        Howe    male            JHowe1982@gmail.com     7-1-17   \n",
      "13         Joel       Combs    male               JC9481@gmail.com     7-1-17   \n",
      "14        Oscar      Forbes    male         Oscar.Forbes@gmail.com     7-1-17   \n",
      "15       Darryl      Albert    male          DAlbert1975@gmail.com     7-1-17   \n",
      "16      Armando  Valenzuela    male  ArmandoValenzuela67@gmail.com     7-1-17   \n",
      "17         June       Ayers  female               JA2612@gmail.com     7-1-17   \n",
      "18        Nancy       Morin  female          Nancy.Morin@gmail.com     7-1-17   \n",
      "19     Lorraine     Lindsay  female               LL3161@gmail.com     7-1-17   \n",
      "20        Carla    Guerrero  female               CG6354@gmail.com     7-1-17   \n",
      "21         Gina      Monroe  female          GMonroe1973@gmail.com     7-1-17   \n",
      "22         Andy    Roberson    male        ARoberson1972@yahoo.com     7-1-17   \n",
      "23       Arnold      Madden    male          AMadden1998@gmail.com     7-1-17   \n",
      "24       Norman   Frederick    male               NF6074@gmail.com     7-1-17   \n",
      "25       Morris        Lott    male               ML9504@gmail.com     7-1-17   \n",
      "26         Cory      Gamble    male          CGamble1983@gmail.com     7-1-17   \n",
      "27       Marcus     Gilliam    male         MGilliam1997@gmail.com     7-1-17   \n",
      "28     Clifford     Guthrie    male     Clifford.Guthrie@gmail.com     7-1-17   \n",
      "29        Terry     Merrill    male       TerryMerrill91@gmail.com     7-1-17   \n",
      "...         ...         ...     ...                            ...        ...   \n",
      "4974    Dolores     Nielsen  female       DNielsen1989@outlook.com     9-9-17   \n",
      "4975      Kathy       Drake  female         KathyDrake58@yahoo.com     9-9-17   \n",
      "4976      Misty    Roberson  female       Misty.Roberson@gmail.com     9-9-17   \n",
      "4977     Marian      Daniel  female      Marian.Daniel@outlook.com     9-9-17   \n",
      "4978      Wanda        Snow  female          WandaSnow93@gmail.com     9-9-17   \n",
      "4979     Nathan    Gallegos    male        NGallegos1993@gmail.com     9-9-17   \n",
      "4980     Evelyn      Reeves  female      Evelyn.Reeves@hotmail.com     9-9-17   \n",
      "4981      Kelly        Tate    male               KT1133@yahoo.com     9-9-17   \n",
      "4982     Willie        Mann  female            WMann1985@gmail.com     9-9-17   \n",
      "4983      Ellen       Blake  female               EB2921@gmail.com     9-9-17   \n",
      "4984   Marjorie        Wong  female            MWong1985@gmail.com     9-9-17   \n",
      "4985     Margie      Walton  female        Margie.Walton@gmail.com     9-9-17   \n",
      "4986      Peter    Figueroa    male               PF2641@gmail.com     9-9-17   \n",
      "4987    Clifton        Leon    male         Clifton.Leon@gmail.com     9-9-17   \n",
      "4988     Gordon    Espinoza    male               GE6498@gmail.com     9-9-17   \n",
      "4989       Luis       Horne    male             LH9941@outlook.com     9-9-17   \n",
      "4990    Francis      Durham    male      FrancisDurham84@gmail.com     9-9-17   \n",
      "4991    Suzanne    Humphrey  female     SuzanneHumphrey4@gmail.com     9-9-17   \n",
      "4992      Glenn      Kinney    male         Glenn.Kinney@gmail.com     9-9-17   \n",
      "4993       Jose   Stevenson    male      JoseStevenson56@gmail.com     9-9-17   \n",
      "4994    Gregory        Wong    male            GWong1970@gmail.com     9-9-17   \n",
      "4995       Dean       Mejia    male               DM7848@gmail.com     9-9-17   \n",
      "4996     Sharon        Hahn  female               SH5322@gmail.com     9-9-17   \n",
      "4997       Adam      Grimes    male          Adam.Grimes@gmail.com     9-9-17   \n",
      "4998       Sara      Malone  female          SMalone1995@gmail.com     9-9-17   \n",
      "4999     Rachel     Hensley  female      RachelHensley38@gmail.com     9-9-17   \n",
      "5000       Leon      Harmon    male          Leon.Harmon@gmail.com     9-9-17   \n",
      "5001       Andy       Pratt    male          AndyPratt27@gmail.com     9-9-17   \n",
      "5002      Ruben     Nielsen    male     RubenNielsen93@hotmail.com     9-9-17   \n",
      "5003    Charles      Carver    male               CC2490@gmail.com     9-9-17   \n",
      "\n",
      "     fitness_test_date application_date purchase_date ab_test_group  \\\n",
      "0           2017-07-03             None          None             A   \n",
      "1           2017-07-02             None          None             A   \n",
      "2                 None       2017-07-04    2017-07-04             B   \n",
      "3           2017-07-01       2017-07-03    2017-07-05             A   \n",
      "4           2017-07-02             None          None             A   \n",
      "5                 None             None          None             B   \n",
      "6           2017-07-05             None          None             A   \n",
      "7                 None             None          None             B   \n",
      "8           2017-07-02             None          None             A   \n",
      "9           2017-07-07       2017-07-06          None             A   \n",
      "10                None             None          None             B   \n",
      "11          2017-07-03       2017-07-05    2017-07-06             A   \n",
      "12          2017-07-06             None          None             A   \n",
      "13          2017-07-01             None          None             A   \n",
      "14                None             None          None             B   \n",
      "15                None             None          None             B   \n",
      "16                None             None          None             B   \n",
      "17                None             None          None             B   \n",
      "18          2017-07-05             None          None             A   \n",
      "19          2017-07-05             None          None             A   \n",
      "20          2017-07-03             None          None             A   \n",
      "21                None             None          None             B   \n",
      "22          2017-07-05             None          None             A   \n",
      "23          2017-07-01             None          None             A   \n",
      "24                None             None          None             B   \n",
      "25          2017-07-03             None          None             A   \n",
      "26                None             None          None             B   \n",
      "27                None             None          None             B   \n",
      "28          2017-07-04             None          None             A   \n",
      "29                None             None          None             B   \n",
      "...                ...              ...           ...           ...   \n",
      "4974        2017-09-14             None          None             A   \n",
      "4975              None             None          None             B   \n",
      "4976        2017-09-14             None          None             A   \n",
      "4977              None             None          None             B   \n",
      "4978              None             None          None             B   \n",
      "4979              None             None          None             B   \n",
      "4980              None             None          None             B   \n",
      "4981        2017-09-12             None          None             A   \n",
      "4982        2017-09-11             None          None             A   \n",
      "4983        2017-09-10             None          None             A   \n",
      "4984              None             None          None             B   \n",
      "4985              None             None          None             B   \n",
      "4986        2017-09-15             None          None             A   \n",
      "4987        2017-09-12             None          None             A   \n",
      "4988        2017-09-12             None          None             A   \n",
      "4989              None             None          None             B   \n",
      "4990              None             None          None             B   \n",
      "4991        2017-09-09       2017-09-13    2017-09-18             A   \n",
      "4992              None             None          None             B   \n",
      "4993              None             None          None             B   \n",
      "4994        2017-09-09             None          None             A   \n",
      "4995        2017-09-13             None          None             A   \n",
      "4996              None             None          None             B   \n",
      "4997              None             None          None             B   \n",
      "4998        2017-09-13             None          None             A   \n",
      "4999              None             None          None             B   \n",
      "5000        2017-09-15             None          None             A   \n",
      "5001        2017-09-15             None          None             A   \n",
      "5002              None       2017-09-13          None             B   \n",
      "5003        2017-09-12             None          None             A   \n",
      "\n",
      "      is_application  \n",
      "0     No Application  \n",
      "1     No Application  \n",
      "2        Application  \n",
      "3        Application  \n",
      "4     No Application  \n",
      "5     No Application  \n",
      "6     No Application  \n",
      "7     No Application  \n",
      "8     No Application  \n",
      "9        Application  \n",
      "10    No Application  \n",
      "11       Application  \n",
      "12    No Application  \n",
      "13    No Application  \n",
      "14    No Application  \n",
      "15    No Application  \n",
      "16    No Application  \n",
      "17    No Application  \n",
      "18    No Application  \n",
      "19    No Application  \n",
      "20    No Application  \n",
      "21    No Application  \n",
      "22    No Application  \n",
      "23    No Application  \n",
      "24    No Application  \n",
      "25    No Application  \n",
      "26    No Application  \n",
      "27    No Application  \n",
      "28    No Application  \n",
      "29    No Application  \n",
      "...              ...  \n",
      "4974  No Application  \n",
      "4975  No Application  \n",
      "4976  No Application  \n",
      "4977  No Application  \n",
      "4978  No Application  \n",
      "4979  No Application  \n",
      "4980  No Application  \n",
      "4981  No Application  \n",
      "4982  No Application  \n",
      "4983  No Application  \n",
      "4984  No Application  \n",
      "4985  No Application  \n",
      "4986  No Application  \n",
      "4987  No Application  \n",
      "4988  No Application  \n",
      "4989  No Application  \n",
      "4990  No Application  \n",
      "4991     Application  \n",
      "4992  No Application  \n",
      "4993  No Application  \n",
      "4994  No Application  \n",
      "4995  No Application  \n",
      "4996  No Application  \n",
      "4997  No Application  \n",
      "4998  No Application  \n",
      "4999  No Application  \n",
      "5000  No Application  \n",
      "5001  No Application  \n",
      "5002     Application  \n",
      "5003  No Application  \n",
      "\n",
      "[5004 rows x 10 columns]\n"
     ]
    }
   ],
   "source": [
    "df['is_application'] = df.application_date.apply(lambda x: 'Application' if pd.notnull(x) else 'No Application')\n",
    "print(df)"
   ]
  },
  {
   "cell_type": "markdown",
   "metadata": {},
   "source": [
    "Now, using `groupby`, count how many people from Group A and Group B either do or don't pick up an application.  You'll want to group by `ab_test_group` and `is_application`.  Save this new DataFrame as `app_counts`"
   ]
  },
  {
   "cell_type": "code",
   "execution_count": 14,
   "metadata": {},
   "outputs": [
    {
     "name": "stdout",
     "output_type": "stream",
     "text": [
      "  ab_test_group  is_application  first_name\n",
      "0             A     Application         250\n",
      "1             A  No Application        2254\n",
      "2             B     Application         325\n",
      "3             B  No Application        2175\n"
     ]
    }
   ],
   "source": [
    "app_counts = df.groupby(['ab_test_group','is_application']).first_name.count().reset_index()\n",
    "print(app_counts)"
   ]
  },
  {
   "cell_type": "markdown",
   "metadata": {},
   "source": [
    "We're going to want to calculate the percent of people in each group who complete an application.  It's going to be much easier to do this if we pivot `app_counts` such that:\n",
    "- The `index` is `ab_test_group`\n",
    "- The `columns` are `is_application`\n",
    "Perform this pivot and save it to the variable `app_pivot`.  Remember to call `reset_index()` at the end of the pivot!"
   ]
  },
  {
   "cell_type": "code",
   "execution_count": 15,
   "metadata": {},
   "outputs": [
    {
     "name": "stdout",
     "output_type": "stream",
     "text": [
      "is_application ab_test_group  Application  No Application\n",
      "0                          A          250            2254\n",
      "1                          B          325            2175\n"
     ]
    }
   ],
   "source": [
    "app_pivot = app_counts.pivot(columns='is_application',\n",
    "                index='ab_test_group',\n",
    "                values='first_name').reset_index()\n",
    "print(app_pivot)"
   ]
  },
  {
   "cell_type": "markdown",
   "metadata": {},
   "source": [
    "Define a new column called `Total`, which is the sum of `Application` and `No Application`."
   ]
  },
  {
   "cell_type": "code",
   "execution_count": 16,
   "metadata": {},
   "outputs": [
    {
     "name": "stdout",
     "output_type": "stream",
     "text": [
      "is_application ab_test_group  Application  No Application  Total\n",
      "0                          A          250            2254   2504\n",
      "1                          B          325            2175   2500\n"
     ]
    }
   ],
   "source": [
    "app_pivot['Total'] = app_pivot['Application'] + app_pivot['No Application']\n",
    "print(app_pivot)"
   ]
  },
  {
   "cell_type": "markdown",
   "metadata": {},
   "source": [
    "Calculate another column called `Percent with Application`, which is equal to `Application` divided by `Total`."
   ]
  },
  {
   "cell_type": "code",
   "execution_count": 17,
   "metadata": {},
   "outputs": [
    {
     "name": "stdout",
     "output_type": "stream",
     "text": [
      "is_application ab_test_group  Application  No Application  Total  \\\n",
      "0                          A          250            2254   2504   \n",
      "1                          B          325            2175   2500   \n",
      "\n",
      "is_application  Percent with Application  \n",
      "0                                0.09984  \n",
      "1                                0.13000  \n"
     ]
    }
   ],
   "source": [
    "app_pivot['Percent with Application'] = app_pivot['Application']/app_pivot['Total']\n",
    "print(app_pivot)"
   ]
  },
  {
   "cell_type": "markdown",
   "metadata": {},
   "source": [
    "It looks like more people from Group B turned in an application.  Why might that be?\n",
    "\n",
    "We need to know if this difference is statistically significant.\n",
    "\n",
    "Choose a hypothesis tests, import it from `scipy` and perform it.  Be sure to note the p-value.\n",
    "Is this result significant?"
   ]
  },
  {
   "cell_type": "code",
   "execution_count": 18,
   "metadata": {},
   "outputs": [
    {
     "data": {
      "text/plain": [
       "(10.893961295282612,\n",
       " 0.0009647827600722304,\n",
       " 1,\n",
       " array([[ 287.72981615, 2216.27018385],\n",
       "        [ 287.27018385, 2212.72981615]]))"
      ]
     },
     "execution_count": 18,
     "metadata": {},
     "output_type": "execute_result"
    }
   ],
   "source": [
    "from scipy.stats import chi2_contingency\n",
    "chi2_contingency([[250,2254],[325,2175]])\n"
   ]
  },
  {
   "cell_type": "markdown",
   "metadata": {},
   "source": [
    "## Step 4: Who purchases a membership?"
   ]
  },
  {
   "cell_type": "markdown",
   "metadata": {},
   "source": [
    "Of those who picked up an application, how many purchased a membership?\n",
    "\n",
    "Let's begin by adding a column to `df` called `is_member` which is `Member` if `purchase_date` is not `None`, and `Not Member` otherwise."
   ]
  },
  {
   "cell_type": "code",
   "execution_count": 19,
   "metadata": {},
   "outputs": [],
   "source": [
    "df['is_member'] = df.purchase_date.apply(lambda x: 'Member' if pd.notnull(x) else 'Not Member')"
   ]
  },
  {
   "cell_type": "markdown",
   "metadata": {},
   "source": [
    "Now, let's create a DataFrame called `just_apps` the contains only people who picked up an application."
   ]
  },
  {
   "cell_type": "code",
   "execution_count": 20,
   "metadata": {},
   "outputs": [],
   "source": [
    "just_apps = df[df.is_application == 'Application']"
   ]
  },
  {
   "cell_type": "markdown",
   "metadata": {},
   "source": [
    "Great! Now, let's do a `groupby` to find out how many people in `just_apps` are and aren't members from each group.  Follow the same process that we did in Step 4, including pivoting the data.  You should end up with a DataFrame that looks like this:\n",
    "\n",
    "|is_member|ab_test_group|Member|Not Member|Total|Percent Purchase|\n",
    "|-|-|-|-|-|-|\n",
    "|0|A|?|?|?|?|\n",
    "|1|B|?|?|?|?|\n",
    "\n",
    "Save your final DataFrame as `member_pivot`."
   ]
  },
  {
   "cell_type": "code",
   "execution_count": 21,
   "metadata": {},
   "outputs": [
    {
     "name": "stdout",
     "output_type": "stream",
     "text": [
      "is_member ab_test_group  Member  Not Member  Total  Percent Purchase\n",
      "0                     A     200          50    250          0.800000\n",
      "1                     B     250          75    325          0.769231\n"
     ]
    }
   ],
   "source": [
    "member_count = just_apps.groupby(['ab_test_group','is_member']).first_name.count().reset_index()\n",
    "\n",
    "member_pivot = member_count.pivot(columns='is_member',\n",
    "                                 index='ab_test_group',\n",
    "                                 values='first_name').reset_index()\n",
    "member_pivot['Total'] = member_pivot['Member'] + member_pivot['Not Member']\n",
    "member_pivot['Percent Purchase'] = member_pivot['Member']/member_pivot['Total']\n",
    "print(member_pivot)"
   ]
  },
  {
   "cell_type": "markdown",
   "metadata": {},
   "source": [
    "It looks like people who took the fitness test were more likely to purchase a membership **if** they picked up an application.  Why might that be?\n",
    "\n",
    "Just like before, we need to know if this difference is statistically significant.  Choose a hypothesis tests, import it from `scipy` and perform it.  Be sure to note the p-value.\n",
    "Is this result significant?"
   ]
  },
  {
   "cell_type": "code",
   "execution_count": 22,
   "metadata": {},
   "outputs": [
    {
     "data": {
      "text/plain": [
       "(0.615869230769231,\n",
       " 0.43258646051083327,\n",
       " 1,\n",
       " array([[195.65217391,  54.34782609],\n",
       "        [254.34782609,  70.65217391]]))"
      ]
     },
     "execution_count": 22,
     "metadata": {},
     "output_type": "execute_result"
    }
   ],
   "source": [
    "chi2_contingency([[200,50],[250,75]])"
   ]
  },
  {
   "cell_type": "markdown",
   "metadata": {},
   "source": [
    "Previously, we looked at what percent of people **who picked up applications** purchased memberships.  What we really care about is what percentage of **all visitors** purchased memberships.  Return to `df` and do a `groupby` to find out how many people in `df` are and aren't members from each group.  Follow the same process that we did in Step 4, including pivoting the data.  You should end up with a DataFrame that looks like this:\n",
    "\n",
    "|is_member|ab_test_group|Member|Not Member|Total|Percent Purchase|\n",
    "|-|-|-|-|-|-|\n",
    "|0|A|?|?|?|?|\n",
    "|1|B|?|?|?|?|\n",
    "\n",
    "Save your final DataFrame as `final_member_pivot`."
   ]
  },
  {
   "cell_type": "code",
   "execution_count": 23,
   "metadata": {},
   "outputs": [
    {
     "name": "stdout",
     "output_type": "stream",
     "text": [
      "is_member ab_test_group  Member  Not Member  Total  Percent Purchase\n",
      "0                     A     200        2304   2504          0.079872\n",
      "1                     B     250        2250   2500          0.100000\n"
     ]
    }
   ],
   "source": [
    "total_members = df.groupby(['ab_test_group', 'is_member']).first_name.count().reset_index()\n",
    "final_member_pivot = total_members.pivot(columns='is_member',\n",
    "                                        index='ab_test_group',\n",
    "                                         values='first_name').reset_index()\n",
    "final_member_pivot['Total'] = final_member_pivot['Member'] + final_member_pivot['Not Member']\n",
    "final_member_pivot['Percent Purchase'] = final_member_pivot['Member']/final_member_pivot['Total']\n",
    "print(final_member_pivot)"
   ]
  },
  {
   "cell_type": "markdown",
   "metadata": {},
   "source": [
    "Previously, when we only considered people who had **already picked up an application**, we saw that there was no significant difference in membership between Group A and Group B.\n",
    "\n",
    "Now, when we consider all people who **visit MuscleHub**, we see that there might be a significant different in memberships between Group A and Group B.  Perform a significance test and check."
   ]
  },
  {
   "cell_type": "code",
   "execution_count": 24,
   "metadata": {},
   "outputs": [
    {
     "data": {
      "text/plain": [
       "(5.949182292591156,\n",
       " 0.014724114645783203,\n",
       " 1,\n",
       " array([[ 225.17985612, 2278.82014388],\n",
       "        [ 224.82014388, 2275.17985612]]))"
      ]
     },
     "execution_count": 24,
     "metadata": {},
     "output_type": "execute_result"
    }
   ],
   "source": [
    "chi2_contingency([[200,2304],[250,2250]])"
   ]
  },
  {
   "cell_type": "markdown",
   "metadata": {},
   "source": [
    "## Step 5: Summarize the acquisition funel with a chart"
   ]
  },
  {
   "cell_type": "markdown",
   "metadata": {},
   "source": [
    "We'd like to make a bar chart for Janet that shows the difference between Group A (people who were given the fitness test) and Group B (people who were not given the fitness test) at each state of the process:\n",
    "- Percent of visitors who apply\n",
    "- Percent of applicants who purchase a membership\n",
    "- Percent of visitors who purchase a membership\n",
    "\n",
    "Create one plot for **each** of the three sets of percentages that you calculated in `app_pivot`, `member_pivot` and `final_member_pivot`.  Each plot should:\n",
    "- Label the two bars as `Fitness Test` and `No Fitness Test`\n",
    "- Make sure that the y-axis ticks are expressed as percents (i.e., `5%`)\n",
    "- Have a title"
   ]
  },
  {
   "cell_type": "code",
   "execution_count": 25,
   "metadata": {},
   "outputs": [
    {
     "data": {
      "image/png": "[encoded data removed]",
      "text/plain": [
       "<Figure size 432x288 with 1 Axes>"
      ]
     },
     "metadata": {},
     "output_type": "display_data"
    },
    {
     "data": {
      "text/plain": [
       "<Figure size 432x288 with 0 Axes>"
      ]
     },
     "metadata": {},
     "output_type": "display_data"
    }
   ],
   "source": [
    "ax = plt.subplot()\n",
    "plt.bar([0,1],app_pivot['Percent with Application'])\n",
    "plt.title('Percent of visitors who apply')\n",
    "\n",
    "ax.set_yticks([0.04,0.08,0.12])\n",
    "ax.set_yticklabels(['4%','8%','12%'])\n",
    "ax.set_xticks([0,1])\n",
    "ax.set_xticklabels(['Fitness Test','No Fitness Test'])\n",
    "plt.show()\n",
    "plt.savefig('Visitors_who_apply')"
   ]
  },
  {
   "cell_type": "code",
   "execution_count": 26,
   "metadata": {},
   "outputs": [
    {
     "data": {
      "image/png": "[encoded data removed]",
      "text/plain": [
       "<Figure size 432x288 with 1 Axes>"
      ]
     },
     "metadata": {},
     "output_type": "display_data"
    },
    {
     "data": {
      "text/plain": [
       "<Figure size 432x288 with 0 Axes>"
      ]
     },
     "metadata": {},
     "output_type": "display_data"
    }
   ],
   "source": [
    "ax = plt.subplot()\n",
    "plt.bar([0,1],member_pivot['Percent Purchase'])\n",
    "plt.title('Percent of applicants who purchase a membership')\n",
    "\n",
    "ax.set_yticks([0.2,0.4,0.6,0.8])\n",
    "ax.set_yticklabels(['20%','40%','60%','80%'])\n",
    "ax.set_xticks([0,1])\n",
    "ax.set_xticklabels(['Fitness Test','No Fitness Test'])\n",
    "plt.show()\n",
    "plt.savefig('Applicants_who_purchase')"
   ]
  },
  {
   "cell_type": "code",
   "execution_count": 27,
   "metadata": {},
   "outputs": [
    {
     "data": {
      "image/png": "[encoded data removed]",
      "text/plain": [
       "<Figure size 432x288 with 1 Axes>"
      ]
     },
     "metadata": {},
     "output_type": "display_data"
    },
    {
     "data": {
      "text/plain": [
       "<Figure size 432x288 with 0 Axes>"
      ]
     },
     "metadata": {},
     "output_type": "display_data"
    }
   ],
   "source": [
    "ax = plt.subplot()\n",
    "plt.bar([0,1],final_member_pivot['Percent Purchase'])\n",
    "plt.title('Percent of visitors who purchase a membership')\n",
    "\n",
    "ax.set_yticks([0.02,0.04,0.06,0.08,0.10])\n",
    "ax.set_yticklabels(['2%','4%','6%','8%','10%'])\n",
    "ax.set_xticks([0,1])\n",
    "ax.set_xticklabels(['Fitness Test','No Fitness Test'])\n",
    "plt.show()\n",
    "plt.savefig('Visitors_who_purchase.png')"
   ]
  }
 ],
 "metadata": {
  "kernelspec": {
   "display_name": "Python 3",
   "language": "python",
   "name": "python3"
  },
  "language_info": {
   "codemirror_mode": {
    "name": "ipython",
    "version": 3
   },
   "file_extension": ".py",
   "mimetype": "text/x-python",
   "name": "python",
   "nbconvert_exporter": "python",
   "pygments_lexer": "ipython3",
   "version": "3.6.5"
  }
 },
 "nbformat": 4,
 "nbformat_minor": 2
}
